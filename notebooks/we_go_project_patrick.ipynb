{
 "cells": [
  {
   "cell_type": "code",
   "execution_count": 1,
   "id": "57c7a585-f8d9-45b1-ab91-953d813a8a45",
   "metadata": {},
   "outputs": [],
   "source": [
    "import pandas as pd\n",
    "import matplotlib.pyplot as plt\n",
    "import matplotlib as mpl\n",
    "import numpy as py\n",
    "import seaborn as sns\n",
    "pd.set_option('display.max_columns', None)"
   ]
  },
  {
   "cell_type": "code",
   "execution_count": 2,
   "id": "522bccb5-f82f-40f9-b2f2-50141184b3c3",
   "metadata": {},
   "outputs": [
    {
     "data": {
      "text/html": [
       "<div>\n",
       "<style scoped>\n",
       "    .dataframe tbody tr th:only-of-type {\n",
       "        vertical-align: middle;\n",
       "    }\n",
       "\n",
       "    .dataframe tbody tr th {\n",
       "        vertical-align: top;\n",
       "    }\n",
       "\n",
       "    .dataframe thead th {\n",
       "        text-align: right;\n",
       "    }\n",
       "</style>\n",
       "<table border=\"1\" class=\"dataframe\">\n",
       "  <thead>\n",
       "    <tr style=\"text-align: right;\">\n",
       "      <th></th>\n",
       "      <th>CALENDAR_ID</th>\n",
       "      <th>SERVICE_ABBR</th>\n",
       "      <th>ADHERENCE_ID</th>\n",
       "      <th>DATE</th>\n",
       "      <th>ROUTE_ABBR</th>\n",
       "      <th>BLOCK_ABBR</th>\n",
       "      <th>OPERATOR</th>\n",
       "      <th>TRIP_ID</th>\n",
       "      <th>OVERLOAD_ID</th>\n",
       "      <th>ROUTE_DIRECTION_NAME</th>\n",
       "      <th>TIME_POINT_ABBR</th>\n",
       "      <th>ROUTE_STOP_SEQUENCE</th>\n",
       "      <th>TRIP_EDGE</th>\n",
       "      <th>LATITUDE</th>\n",
       "      <th>LONGITUDE</th>\n",
       "      <th>SCHEDULED_TIME</th>\n",
       "      <th>ACTUAL_ARRIVAL_TIME</th>\n",
       "      <th>ACTUAL_DEPARTURE_TIME</th>\n",
       "      <th>ADHERENCE</th>\n",
       "      <th>SCHEDULED_HDWY</th>\n",
       "      <th>ACTUAL_HDWY</th>\n",
       "      <th>HDWY_DEV</th>\n",
       "      <th>ADJUSTED_EARLY_COUNT</th>\n",
       "      <th>ADJUSTED_LATE_COUNT</th>\n",
       "      <th>ADJUSTED_ONTIME_COUNT</th>\n",
       "      <th>STOP_CANCELLED</th>\n",
       "      <th>PREV_SCHED_STOP_CANCELLED</th>\n",
       "      <th>IS_RELIEF</th>\n",
       "      <th>DWELL_IN_MINS</th>\n",
       "      <th>SCHEDULED_LAYOVER_MINUTES</th>\n",
       "    </tr>\n",
       "  </thead>\n",
       "  <tbody>\n",
       "    <tr>\n",
       "      <th>0</th>\n",
       "      <td>120230801</td>\n",
       "      <td>1</td>\n",
       "      <td>99457890</td>\n",
       "      <td>2023-08-01</td>\n",
       "      <td>22</td>\n",
       "      <td>2200</td>\n",
       "      <td>1040</td>\n",
       "      <td>345104</td>\n",
       "      <td>0</td>\n",
       "      <td>TO DOWNTOWN</td>\n",
       "      <td>MHSP</td>\n",
       "      <td>14.0</td>\n",
       "      <td>1</td>\n",
       "      <td>36.181248</td>\n",
       "      <td>-86.847705</td>\n",
       "      <td>2023-08-01 04:42:00</td>\n",
       "      <td>2023-08-01 04:37:38</td>\n",
       "      <td>2023-08-01 04:44:08</td>\n",
       "      <td>-2.133333</td>\n",
       "      <td>NaN</td>\n",
       "      <td>NaN</td>\n",
       "      <td>NaN</td>\n",
       "      <td>0</td>\n",
       "      <td>0</td>\n",
       "      <td>1</td>\n",
       "      <td>0</td>\n",
       "      <td>0.0</td>\n",
       "      <td>0</td>\n",
       "      <td>6.5</td>\n",
       "      <td>NaN</td>\n",
       "    </tr>\n",
       "  </tbody>\n",
       "</table>\n",
       "</div>"
      ],
      "text/plain": [
       "   CALENDAR_ID  SERVICE_ABBR  ADHERENCE_ID        DATE  ROUTE_ABBR  \\\n",
       "0    120230801             1      99457890  2023-08-01          22   \n",
       "\n",
       "   BLOCK_ABBR  OPERATOR  TRIP_ID  OVERLOAD_ID ROUTE_DIRECTION_NAME  \\\n",
       "0        2200      1040   345104            0          TO DOWNTOWN   \n",
       "\n",
       "  TIME_POINT_ABBR  ROUTE_STOP_SEQUENCE  TRIP_EDGE   LATITUDE  LONGITUDE  \\\n",
       "0            MHSP                 14.0          1  36.181248 -86.847705   \n",
       "\n",
       "        SCHEDULED_TIME  ACTUAL_ARRIVAL_TIME ACTUAL_DEPARTURE_TIME  ADHERENCE  \\\n",
       "0  2023-08-01 04:42:00  2023-08-01 04:37:38   2023-08-01 04:44:08  -2.133333   \n",
       "\n",
       "   SCHEDULED_HDWY  ACTUAL_HDWY  HDWY_DEV  ADJUSTED_EARLY_COUNT  \\\n",
       "0             NaN          NaN       NaN                     0   \n",
       "\n",
       "   ADJUSTED_LATE_COUNT  ADJUSTED_ONTIME_COUNT  STOP_CANCELLED  \\\n",
       "0                    0                      1               0   \n",
       "\n",
       "   PREV_SCHED_STOP_CANCELLED  IS_RELIEF  DWELL_IN_MINS  \\\n",
       "0                        0.0          0            6.5   \n",
       "\n",
       "   SCHEDULED_LAYOVER_MINUTES  \n",
       "0                        NaN  "
      ]
     },
     "execution_count": 2,
     "metadata": {},
     "output_type": "execute_result"
    }
   ],
   "source": [
    "wego = pd.read_csv(\"../data/Headway Data, 8-1-2023 to 9-30-2023.csv\")\n",
    "\n",
    "wego.head(1)"
   ]
  },
  {
   "cell_type": "code",
   "execution_count": 3,
   "id": "47b35ee2-d1b1-4a60-8959-de5d745a80a0",
   "metadata": {},
   "outputs": [
    {
     "data": {
      "text/plain": [
       "0         False\n",
       "1         False\n",
       "2         False\n",
       "3         False\n",
       "4         False\n",
       "          ...  \n",
       "350324    False\n",
       "350325    False\n",
       "350326    False\n",
       "350327    False\n",
       "350328    False\n",
       "Name: ADJUSTED_EARLY_COUNT, Length: 350329, dtype: bool"
      ]
     },
     "execution_count": 3,
     "metadata": {},
     "output_type": "execute_result"
    }
   ],
   "source": [
    "wego['ADJUSTED_EARLY_COUNT'].isna()"
   ]
  },
  {
   "cell_type": "markdown",
   "id": "5659a235-43f7-4956-a81a-bb8af9b7578d",
   "metadata": {},
   "source": [
    "1. What is the overall on-time performance, and what do the overall distributions of adherence and headway deviation look like? "
   ]
  },
  {
   "cell_type": "markdown",
   "id": "bd219879-8252-4079-85a7-1ac59a2fcb16",
   "metadata": {},
   "source": [
    "ontime_performance = early_count+late_count+ontime_count / ontime_count"
   ]
  },
  {
   "cell_type": "code",
   "execution_count": 4,
   "id": "c995ae99-490e-4851-9d81-04838086b623",
   "metadata": {},
   "outputs": [
    {
     "data": {
      "text/plain": [
       "9775"
      ]
     },
     "execution_count": 4,
     "metadata": {},
     "output_type": "execute_result"
    }
   ],
   "source": [
    "early_count = sum(wego['ADJUSTED_EARLY_COUNT'])\n",
    "early_count"
   ]
  },
  {
   "cell_type": "code",
   "execution_count": 5,
   "id": "ca5fda51-96ac-4fca-b2ee-1f615df72405",
   "metadata": {},
   "outputs": [
    {
     "data": {
      "text/plain": [
       "59038"
      ]
     },
     "execution_count": 5,
     "metadata": {},
     "output_type": "execute_result"
    }
   ],
   "source": [
    "late_count = sum(wego['ADJUSTED_LATE_COUNT'])\n",
    "late_count"
   ]
  },
  {
   "cell_type": "code",
   "execution_count": 6,
   "id": "8035c9ad-55e5-4eff-9094-0984625defd4",
   "metadata": {},
   "outputs": [
    {
     "data": {
      "text/plain": [
       "270048"
      ]
     },
     "execution_count": 6,
     "metadata": {},
     "output_type": "execute_result"
    }
   ],
   "source": [
    "ontime_count = sum(wego['ADJUSTED_ONTIME_COUNT'])\n",
    "ontime_count"
   ]
  },
  {
   "cell_type": "code",
   "execution_count": 7,
   "id": "7e3e5509-510e-41c3-9e29-0a44fa3ac1ff",
   "metadata": {},
   "outputs": [
    {
     "data": {
      "text/plain": [
       "338861"
      ]
     },
     "execution_count": 7,
     "metadata": {},
     "output_type": "execute_result"
    }
   ],
   "source": [
    "full_count = early_count+late_count+ontime_count\n",
    "full_count"
   ]
  },
  {
   "cell_type": "code",
   "execution_count": 8,
   "id": "d674adcd-6b6f-42eb-a60a-80b47fc2bac9",
   "metadata": {},
   "outputs": [
    {
     "data": {
      "text/plain": [
       "79.69285341187094"
      ]
     },
     "execution_count": 8,
     "metadata": {},
     "output_type": "execute_result"
    }
   ],
   "source": [
    "ontime_perf = ontime_count / full_count *100\n",
    "ontime_perf"
   ]
  },
  {
   "cell_type": "markdown",
   "id": "38a0bc36-3b67-4c49-bd57-2751cdbc0bea",
   "metadata": {},
   "source": [
    "on-time performance is 79.69%"
   ]
  },
  {
   "cell_type": "code",
   "execution_count": null,
   "id": "1c3873bc-0dc9-41eb-b481-f398e86e9243",
   "metadata": {},
   "outputs": [],
   "source": [
    "# 96.73% of data represented"
   ]
  },
  {
   "cell_type": "code",
   "execution_count": 9,
   "id": "46403dc2-f426-4cd9-a5ce-db1f73bf58c8",
   "metadata": {},
   "outputs": [
    {
     "data": {
      "text/plain": [
       "(11468, 30)"
      ]
     },
     "execution_count": 9,
     "metadata": {},
     "output_type": "execute_result"
    }
   ],
   "source": [
    "(\n",
    "wego\n",
    "    .loc[wego['ADJUSTED_EARLY_COUNT'] == 0]\n",
    "    .loc[wego['ADJUSTED_LATE_COUNT'] == 0]\n",
    "    .loc[wego['ADJUSTED_ONTIME_COUNT'] == 0]\n",
    "    # .loc[wego['ACTUAL_HDWY'].isnull()]\n",
    "    # .loc[wego['HDWY_DEV'].isnull()]\n",
    "    # .loc[wego['DWELL_IN_MINS'].isnull()]\n",
    "    # .loc[wego['ACTUAL_ARRIVAL_TIME'].isnull()] # 11459\n",
    "    .loc[wego['ACTUAL_DEPARTURE_TIME'].isnull()] # 11468\n",
    "    .loc[wego['ADHERENCE'].isnull()] #11468\n",
    "    # .loc[wego['OVERLOAD_ID'].isnull()]\n",
    "    # .loc[wego['IS_RELIEF'].isnull()]\n",
    "    # .loc[wego['SCHEDULED_HDWY'].isnull()]\n",
    "    # .loc[wego['SCHEDULED_TIME'].isnull()]\n",
    ").shape"
   ]
  },
  {
   "cell_type": "code",
   "execution_count": 10,
   "id": "8f01c520-2c0c-463e-9584-636d09d8c5b0",
   "metadata": {},
   "outputs": [
    {
     "data": {
      "text/plain": [
       "(11468, 30)"
      ]
     },
     "execution_count": 10,
     "metadata": {},
     "output_type": "execute_result"
    }
   ],
   "source": [
    "(\n",
    "wego\n",
    "    .loc[wego['ADHERENCE'].isnull()]\n",
    "    # .loc[wego['OVERLOAD_ID'].isnull()]\n",
    "    # .loc[wego['IS_RELIEF'].isnull()]\n",
    "    # .loc[wego['SCHEDULED_HDWY'].isnull()]\n",
    ").shape"
   ]
  },
  {
   "cell_type": "code",
   "execution_count": 11,
   "id": "076c964f-bc54-452f-882f-44c4ab9d21c5",
   "metadata": {},
   "outputs": [
    {
     "data": {
      "text/html": [
       "<div>\n",
       "<style scoped>\n",
       "    .dataframe tbody tr th:only-of-type {\n",
       "        vertical-align: middle;\n",
       "    }\n",
       "\n",
       "    .dataframe tbody tr th {\n",
       "        vertical-align: top;\n",
       "    }\n",
       "\n",
       "    .dataframe thead th {\n",
       "        text-align: right;\n",
       "    }\n",
       "</style>\n",
       "<table border=\"1\" class=\"dataframe\">\n",
       "  <thead>\n",
       "    <tr style=\"text-align: right;\">\n",
       "      <th></th>\n",
       "      <th>CALENDAR_ID</th>\n",
       "      <th>SERVICE_ABBR</th>\n",
       "      <th>ADHERENCE_ID</th>\n",
       "      <th>DATE</th>\n",
       "      <th>ROUTE_ABBR</th>\n",
       "      <th>BLOCK_ABBR</th>\n",
       "      <th>OPERATOR</th>\n",
       "      <th>TRIP_ID</th>\n",
       "      <th>OVERLOAD_ID</th>\n",
       "      <th>ROUTE_DIRECTION_NAME</th>\n",
       "      <th>TIME_POINT_ABBR</th>\n",
       "      <th>ROUTE_STOP_SEQUENCE</th>\n",
       "      <th>TRIP_EDGE</th>\n",
       "      <th>LATITUDE</th>\n",
       "      <th>LONGITUDE</th>\n",
       "      <th>SCHEDULED_TIME</th>\n",
       "      <th>ACTUAL_ARRIVAL_TIME</th>\n",
       "      <th>ACTUAL_DEPARTURE_TIME</th>\n",
       "      <th>ADHERENCE</th>\n",
       "      <th>SCHEDULED_HDWY</th>\n",
       "      <th>ACTUAL_HDWY</th>\n",
       "      <th>HDWY_DEV</th>\n",
       "      <th>ADJUSTED_EARLY_COUNT</th>\n",
       "      <th>ADJUSTED_LATE_COUNT</th>\n",
       "      <th>ADJUSTED_ONTIME_COUNT</th>\n",
       "      <th>STOP_CANCELLED</th>\n",
       "      <th>PREV_SCHED_STOP_CANCELLED</th>\n",
       "      <th>IS_RELIEF</th>\n",
       "      <th>DWELL_IN_MINS</th>\n",
       "      <th>SCHEDULED_LAYOVER_MINUTES</th>\n",
       "    </tr>\n",
       "  </thead>\n",
       "  <tbody>\n",
       "    <tr>\n",
       "      <th>0</th>\n",
       "      <td>120230801</td>\n",
       "      <td>1</td>\n",
       "      <td>99457890</td>\n",
       "      <td>2023-08-01</td>\n",
       "      <td>22</td>\n",
       "      <td>2200</td>\n",
       "      <td>1040</td>\n",
       "      <td>345104</td>\n",
       "      <td>0</td>\n",
       "      <td>TO DOWNTOWN</td>\n",
       "      <td>MHSP</td>\n",
       "      <td>14.0</td>\n",
       "      <td>1</td>\n",
       "      <td>36.181248</td>\n",
       "      <td>-86.847705</td>\n",
       "      <td>2023-08-01 04:42:00</td>\n",
       "      <td>2023-08-01 04:37:38</td>\n",
       "      <td>2023-08-01 04:44:08</td>\n",
       "      <td>-2.133333</td>\n",
       "      <td>NaN</td>\n",
       "      <td>NaN</td>\n",
       "      <td>NaN</td>\n",
       "      <td>0</td>\n",
       "      <td>0</td>\n",
       "      <td>1</td>\n",
       "      <td>0</td>\n",
       "      <td>0.0</td>\n",
       "      <td>0</td>\n",
       "      <td>6.5</td>\n",
       "      <td>NaN</td>\n",
       "    </tr>\n",
       "  </tbody>\n",
       "</table>\n",
       "</div>"
      ],
      "text/plain": [
       "   CALENDAR_ID  SERVICE_ABBR  ADHERENCE_ID        DATE  ROUTE_ABBR  \\\n",
       "0    120230801             1      99457890  2023-08-01          22   \n",
       "\n",
       "   BLOCK_ABBR  OPERATOR  TRIP_ID  OVERLOAD_ID ROUTE_DIRECTION_NAME  \\\n",
       "0        2200      1040   345104            0          TO DOWNTOWN   \n",
       "\n",
       "  TIME_POINT_ABBR  ROUTE_STOP_SEQUENCE  TRIP_EDGE   LATITUDE  LONGITUDE  \\\n",
       "0            MHSP                 14.0          1  36.181248 -86.847705   \n",
       "\n",
       "        SCHEDULED_TIME  ACTUAL_ARRIVAL_TIME ACTUAL_DEPARTURE_TIME  ADHERENCE  \\\n",
       "0  2023-08-01 04:42:00  2023-08-01 04:37:38   2023-08-01 04:44:08  -2.133333   \n",
       "\n",
       "   SCHEDULED_HDWY  ACTUAL_HDWY  HDWY_DEV  ADJUSTED_EARLY_COUNT  \\\n",
       "0             NaN          NaN       NaN                     0   \n",
       "\n",
       "   ADJUSTED_LATE_COUNT  ADJUSTED_ONTIME_COUNT  STOP_CANCELLED  \\\n",
       "0                    0                      1               0   \n",
       "\n",
       "   PREV_SCHED_STOP_CANCELLED  IS_RELIEF  DWELL_IN_MINS  \\\n",
       "0                        0.0          0            6.5   \n",
       "\n",
       "   SCHEDULED_LAYOVER_MINUTES  \n",
       "0                        NaN  "
      ]
     },
     "execution_count": 11,
     "metadata": {},
     "output_type": "execute_result"
    }
   ],
   "source": [
    "wego.head(1)"
   ]
  },
  {
   "cell_type": "code",
   "execution_count": null,
   "id": "539b0e51-cf64-4a17-8bb8-88ee0c606b54",
   "metadata": {},
   "outputs": [],
   "source": []
  },
  {
   "cell_type": "code",
   "execution_count": null,
   "id": "7bd1dba0-fa65-4645-94bf-f39194f9680e",
   "metadata": {},
   "outputs": [],
   "source": []
  },
  {
   "cell_type": "code",
   "execution_count": null,
   "id": "38a2e892-0121-4f71-8ba4-5b4a83e17c86",
   "metadata": {},
   "outputs": [],
   "source": []
  },
  {
   "cell_type": "code",
   "execution_count": null,
   "id": "eef94ba2-989f-45fc-a880-a45cd4a2f683",
   "metadata": {},
   "outputs": [],
   "source": []
  },
  {
   "cell_type": "code",
   "execution_count": 12,
   "id": "80518b05-d15a-4490-82e6-a681a248c8e2",
   "metadata": {},
   "outputs": [],
   "source": [
    "# add percentages for early and late data as well"
   ]
  },
  {
   "cell_type": "code",
   "execution_count": 13,
   "id": "fef44e84-f33b-47ca-a14f-d7d6ac110119",
   "metadata": {},
   "outputs": [
    {
     "data": {
      "text/plain": [
       "2.8846636231375107"
      ]
     },
     "execution_count": 13,
     "metadata": {},
     "output_type": "execute_result"
    }
   ],
   "source": [
    "early_perf = early_count / full_count *100\n",
    "early_perf"
   ]
  },
  {
   "cell_type": "code",
   "execution_count": 14,
   "id": "75d75f41-598e-40da-813e-f29a314f58c9",
   "metadata": {},
   "outputs": [
    {
     "data": {
      "text/plain": [
       "17.422482964991545"
      ]
     },
     "execution_count": 14,
     "metadata": {},
     "output_type": "execute_result"
    }
   ],
   "source": [
    "late_perf = late_count / full_count *100\n",
    "late_perf"
   ]
  },
  {
   "cell_type": "code",
   "execution_count": 15,
   "id": "4ce3b0c1-df9f-4396-98e6-52ebe7838681",
   "metadata": {},
   "outputs": [],
   "source": [
    "# so of the ~ 20% where the bus is not on time, it's overwhelmingly because they're late in those instances"
   ]
  },
  {
   "cell_type": "code",
   "execution_count": 16,
   "id": "cc7fa0c6-e5ee-47ad-9e91-67d38a25a058",
   "metadata": {},
   "outputs": [],
   "source": [
    "# make a little pie chart of this in tableau?"
   ]
  },
  {
   "cell_type": "markdown",
   "id": "8a142624-7dcc-4e13-8303-d65e356db3c2",
   "metadata": {},
   "source": [
    "what do the overall distributions of adherence look like?"
   ]
  },
  {
   "cell_type": "markdown",
   "id": "75c65b00-747b-47e7-ae9f-342d05ecc44b",
   "metadata": {},
   "source": [
    "'distribution' = histogram"
   ]
  },
  {
   "cell_type": "markdown",
   "id": "2c8ba784-b35b-4d7e-b1dd-1cab25c9494e",
   "metadata": {},
   "source": [
    "Adherence refers to the difference between scheduled time and the actual time that the bus departs from a stop.\n",
    "\n",
    "A negative value for ADHERENCE indicates that the bus is late, and a positive indicates that the bus is early.\n",
    "\n",
    "Generally, an adherence value less than -6 is considered late, and greater than 1 is considered early, but there are some exceptions. For example, a positive adherence for the end of a trip (TRIP_EDGE 2) is not considered early, since it is not a problem if a bus ends its trip early as long as it didn't pass other timepoints early along the way. You can check whether a trip was considered on-time, early, or late using the ADJUSTED_EARLY_COUNT, ADJUSTED_LATE_COUNT, and ADJUSTED_ONTIME_COUNT columns.\n",
    "\n",
    "Here is an example of a trip where all time points would be considered to be on time. Notice that at the end of the trip, the bus was more than 6 minutes early, but was still counted as on-time since this was a trip edge of 2."
   ]
  },
  {
   "cell_type": "code",
   "execution_count": 17,
   "id": "3e93e8e9-5c99-4c7e-8a46-38833699136d",
   "metadata": {},
   "outputs": [
    {
     "data": {
      "text/html": [
       "<div>\n",
       "<style scoped>\n",
       "    .dataframe tbody tr th:only-of-type {\n",
       "        vertical-align: middle;\n",
       "    }\n",
       "\n",
       "    .dataframe tbody tr th {\n",
       "        vertical-align: top;\n",
       "    }\n",
       "\n",
       "    .dataframe thead th {\n",
       "        text-align: right;\n",
       "    }\n",
       "</style>\n",
       "<table border=\"1\" class=\"dataframe\">\n",
       "  <thead>\n",
       "    <tr style=\"text-align: right;\">\n",
       "      <th></th>\n",
       "      <th>DATE</th>\n",
       "      <th>CALENDAR_ID</th>\n",
       "      <th>TRIP_ID</th>\n",
       "      <th>ROUTE_ABBR</th>\n",
       "      <th>TIME_POINT_ABBR</th>\n",
       "      <th>TRIP_EDGE</th>\n",
       "      <th>SCHEDULED_TIME</th>\n",
       "      <th>ACTUAL_DEPARTURE_TIME</th>\n",
       "      <th>ADHERENCE</th>\n",
       "      <th>ADJUSTED_EARLY_COUNT</th>\n",
       "      <th>ADJUSTED_LATE_COUNT</th>\n",
       "      <th>ADJUSTED_ONTIME_COUNT</th>\n",
       "    </tr>\n",
       "  </thead>\n",
       "  <tbody>\n",
       "    <tr>\n",
       "      <th>0</th>\n",
       "      <td>2023-08-01</td>\n",
       "      <td>120230801</td>\n",
       "      <td>345104</td>\n",
       "      <td>22</td>\n",
       "      <td>MHSP</td>\n",
       "      <td>1</td>\n",
       "      <td>2023-08-01 04:42:00</td>\n",
       "      <td>2023-08-01 04:44:08</td>\n",
       "      <td>-2.133333</td>\n",
       "      <td>0</td>\n",
       "      <td>0</td>\n",
       "      <td>1</td>\n",
       "    </tr>\n",
       "  </tbody>\n",
       "</table>\n",
       "</div>"
      ],
      "text/plain": [
       "         DATE  CALENDAR_ID  TRIP_ID  ROUTE_ABBR TIME_POINT_ABBR  TRIP_EDGE  \\\n",
       "0  2023-08-01    120230801   345104          22            MHSP          1   \n",
       "\n",
       "        SCHEDULED_TIME ACTUAL_DEPARTURE_TIME  ADHERENCE  ADJUSTED_EARLY_COUNT  \\\n",
       "0  2023-08-01 04:42:00   2023-08-01 04:44:08  -2.133333                     0   \n",
       "\n",
       "   ADJUSTED_LATE_COUNT  ADJUSTED_ONTIME_COUNT  \n",
       "0                    0                      1  "
      ]
     },
     "execution_count": 17,
     "metadata": {},
     "output_type": "execute_result"
    }
   ],
   "source": [
    "wego_adher = (\n",
    "    wego\n",
    "    [[\n",
    "        'DATE', 'CALENDAR_ID', 'TRIP_ID', 'ROUTE_ABBR',\n",
    "        'TIME_POINT_ABBR', 'TRIP_EDGE',\n",
    "        'SCHEDULED_TIME', 'ACTUAL_DEPARTURE_TIME', 'ADHERENCE',\n",
    "        'ADJUSTED_EARLY_COUNT', 'ADJUSTED_LATE_COUNT', 'ADJUSTED_ONTIME_COUNT'\n",
    "    ]]\n",
    ")\n",
    "wego_adher.head(1)"
   ]
  },
  {
   "cell_type": "code",
   "execution_count": 18,
   "id": "7d15348e-38e7-471e-a7cd-06cb16d6e472",
   "metadata": {},
   "outputs": [
    {
     "data": {
      "text/plain": [
       "Index(['CALENDAR_ID', 'SERVICE_ABBR', 'ADHERENCE_ID', 'DATE', 'ROUTE_ABBR',\n",
       "       'BLOCK_ABBR', 'OPERATOR', 'TRIP_ID', 'OVERLOAD_ID',\n",
       "       'ROUTE_DIRECTION_NAME', 'TIME_POINT_ABBR', 'ROUTE_STOP_SEQUENCE',\n",
       "       'TRIP_EDGE', 'LATITUDE', 'LONGITUDE', 'SCHEDULED_TIME',\n",
       "       'ACTUAL_ARRIVAL_TIME', 'ACTUAL_DEPARTURE_TIME', 'ADHERENCE',\n",
       "       'SCHEDULED_HDWY', 'ACTUAL_HDWY', 'HDWY_DEV', 'ADJUSTED_EARLY_COUNT',\n",
       "       'ADJUSTED_LATE_COUNT', 'ADJUSTED_ONTIME_COUNT', 'STOP_CANCELLED',\n",
       "       'PREV_SCHED_STOP_CANCELLED', 'IS_RELIEF', 'DWELL_IN_MINS',\n",
       "       'SCHEDULED_LAYOVER_MINUTES'],\n",
       "      dtype='object')"
      ]
     },
     "execution_count": 18,
     "metadata": {},
     "output_type": "execute_result"
    }
   ],
   "source": [
    "wego.columns"
   ]
  },
  {
   "cell_type": "code",
   "execution_count": 19,
   "id": "4d5f96a0-9a40-4778-a826-cf14bcb47685",
   "metadata": {},
   "outputs": [],
   "source": [
    "x = wego['ADHERENCE']\n",
    "y = wego['TRIP_ID']"
   ]
  },
  {
   "cell_type": "markdown",
   "id": "919209de-5a7d-4f3b-8914-8d301d68631a",
   "metadata": {},
   "source": [
    "plt.figure(figsize=(8, 6))\n",
    "plt.scatter(x, y, color='r', label='Data Points')  # Scatter plot\n",
    "\n",
    "plt.title('Scatter Plot')\n",
    "plt.xlabel('X Axis')\n",
    "plt.ylabel('Y Axis')\n",
    "plt.legend()\n",
    "plt.grid(True)\n",
    "\n",
    "plt.show()"
   ]
  },
  {
   "cell_type": "code",
   "execution_count": 20,
   "id": "19b096a1-206c-4dc7-b249-921ff6c58ff3",
   "metadata": {},
   "outputs": [
    {
     "data": {
      "text/plain": [
       "0         -2.133333\n",
       "1         -2.450000\n",
       "2         -0.933333\n",
       "3          6.283333\n",
       "4         -1.583333\n",
       "            ...    \n",
       "350324    -8.433333\n",
       "350325   -11.300000\n",
       "350326    -4.316666\n",
       "350327   -22.083333\n",
       "350328   -23.666666\n",
       "Name: ADHERENCE, Length: 350329, dtype: float64"
      ]
     },
     "execution_count": 20,
     "metadata": {},
     "output_type": "execute_result"
    }
   ],
   "source": [
    "wego_adher_simp = wego['ADHERENCE']\n",
    "wego_adher_simp"
   ]
  },
  {
   "cell_type": "code",
   "execution_count": 21,
   "id": "55af327f-a4b5-4a44-ba16-7d9aacd4bc73",
   "metadata": {},
   "outputs": [
    {
     "data": {
      "image/png": "[encoded data removed]",
      "text/plain": [
       "<Figure size 1000x600 with 1 Axes>"
      ]
     },
     "metadata": {},
     "output_type": "display_data"
    }
   ],
   "source": [
    "plt.figure(figsize=(10, 6))  # Set the figure size\n",
    "plt.hist(wego_adher_simp, bins=2500, edgecolor='green') # Create the histogram\n",
    "plt.xlim(-30, 30)\n",
    "\n",
    "plt.title('Adherence')  # Add a title\n",
    "# plt.xlabel('Value')  # Label the x-axis\n",
    "# plt.ylabel('Frequency')  # Label the y-axis\n",
    "plt.grid(True)  # Add grid lines for better readability\n",
    "\n",
    "plt.show()  # Display the plot"
   ]
  },
  {
   "cell_type": "code",
   "execution_count": 22,
   "id": "1d8b96c8-18d5-487c-80ce-dc8e952fc534",
   "metadata": {},
   "outputs": [
    {
     "data": {
      "text/plain": [
       "88.383333"
      ]
     },
     "execution_count": 22,
     "metadata": {},
     "output_type": "execute_result"
    }
   ],
   "source": [
    "wego['ADHERENCE'].max()"
   ]
  },
  {
   "cell_type": "code",
   "execution_count": 23,
   "id": "f3a1ed7b-b878-483f-8956-d6a35525813e",
   "metadata": {},
   "outputs": [
    {
     "data": {
      "text/plain": [
       "-948.533333"
      ]
     },
     "execution_count": 23,
     "metadata": {},
     "output_type": "execute_result"
    }
   ],
   "source": [
    "wego['ADHERENCE'].min()"
   ]
  },
  {
   "cell_type": "code",
   "execution_count": 24,
   "id": "aa3ea663-0820-4d35-95c8-2a3bd76a14ba",
   "metadata": {},
   "outputs": [
    {
     "data": {
      "text/plain": [
       "565.433333"
      ]
     },
     "execution_count": 24,
     "metadata": {},
     "output_type": "execute_result"
    }
   ],
   "source": [
    "wego['HDWY_DEV'].max()"
   ]
  },
  {
   "cell_type": "code",
   "execution_count": 25,
   "id": "139893f0-8e3a-42cc-b66c-b7d45536129a",
   "metadata": {},
   "outputs": [
    {
     "data": {
      "text/plain": [
       "-64.0"
      ]
     },
     "execution_count": 25,
     "metadata": {},
     "output_type": "execute_result"
    }
   ],
   "source": [
    "wego['HDWY_DEV'].min()"
   ]
  },
  {
   "cell_type": "markdown",
   "id": "e9dd09b9-a60b-4891-9882-34883a1083ed",
   "metadata": {},
   "source": [
    "sns.set_theme(style=\"ticks\")\n",
    "\n",
    "adherence = sns.load_dataset(\"wego_adher\")\n",
    "\n",
    "f, ax = plt.subplots(figsize=(7, 5))\n",
    "sns.despine(f)\n",
    "\n",
    "sns.histplot(\n",
    "    adherence,\n",
    "    x=\"adherence\", hue=\"cut\",\n",
    "    multiple=\"stack\",\n",
    "    palette=\"light:m_r\",\n",
    "    edgecolor=\".3\",\n",
    "    linewidth=.5,\n",
    "    log_scale=True,\n",
    ")\n",
    "ax.xaxis.set_major_formatter(mpl.ticker.ScalarFormatter())\n",
    "ax.set_xticks([500, 1000, 2000, 5000, 10000])"
   ]
  },
  {
   "cell_type": "code",
   "execution_count": null,
   "id": "7b249ebc-3c0d-434b-bf51-57a6776ab97e",
   "metadata": {},
   "outputs": [],
   "source": []
  },
  {
   "cell_type": "code",
   "execution_count": null,
   "id": "0a51b5d1-5a10-4f33-8dac-dd2db3428dea",
   "metadata": {},
   "outputs": [],
   "source": []
  },
  {
   "cell_type": "markdown",
   "id": "4a0d28f7-a107-47de-9d82-8cf8723552fc",
   "metadata": {},
   "source": [
    "what do the overall distributions of headway deviation look like?"
   ]
  },
  {
   "cell_type": "markdown",
   "id": "f465a97a-fc54-49ca-9470-1a4b6e184012",
   "metadata": {},
   "source": [
    "Headway is the amount of time between a bus and the prior bus at the same stop. In the dataset, the amount of headway scheduled is contained in the SCHEDULED_HDWY column and indicates the difference between the scheduled time for a particular stop and the scheduled time for the previous bus on that same stop.\n",
    "\n",
    "This dataset contains a column HDWY_DEV, which shows the amount of deviation from the scheduled headway. Bunching occurs when there is shorter headway than scheduled, which would appear as a negative HDWY_DEV value. Gapping is when there is more headway than scheduled and appears as a positive value in the HDWY_DEV column. Note that you can calculate headway deviation percentage as HDWY_DEV/SCHEDULED_HDWY.\n",
    "\n",
    "The generally accepted range of headway deviation is 50% to 150% of the scheduled headway, so if scheduled headway is 10 minutes, a headway deviation of up to 5 minutes would be acceptable (but not ideal)."
   ]
  },
  {
   "cell_type": "code",
   "execution_count": 26,
   "id": "9ee56d5c-1d76-46d9-b007-253d38e8a4c5",
   "metadata": {
    "scrolled": true
   },
   "outputs": [
    {
     "data": {
      "text/html": [
       "<div>\n",
       "<style scoped>\n",
       "    .dataframe tbody tr th:only-of-type {\n",
       "        vertical-align: middle;\n",
       "    }\n",
       "\n",
       "    .dataframe tbody tr th {\n",
       "        vertical-align: top;\n",
       "    }\n",
       "\n",
       "    .dataframe thead th {\n",
       "        text-align: right;\n",
       "    }\n",
       "</style>\n",
       "<table border=\"1\" class=\"dataframe\">\n",
       "  <thead>\n",
       "    <tr style=\"text-align: right;\">\n",
       "      <th></th>\n",
       "      <th>HDWY_DEV</th>\n",
       "      <th>SCHEDULED_HDWY</th>\n",
       "    </tr>\n",
       "  </thead>\n",
       "  <tbody>\n",
       "    <tr>\n",
       "      <th>0</th>\n",
       "      <td>NaN</td>\n",
       "      <td>NaN</td>\n",
       "    </tr>\n",
       "    <tr>\n",
       "      <th>1</th>\n",
       "      <td>NaN</td>\n",
       "      <td>NaN</td>\n",
       "    </tr>\n",
       "    <tr>\n",
       "      <th>2</th>\n",
       "      <td>NaN</td>\n",
       "      <td>NaN</td>\n",
       "    </tr>\n",
       "    <tr>\n",
       "      <th>3</th>\n",
       "      <td>NaN</td>\n",
       "      <td>NaN</td>\n",
       "    </tr>\n",
       "    <tr>\n",
       "      <th>4</th>\n",
       "      <td>NaN</td>\n",
       "      <td>NaN</td>\n",
       "    </tr>\n",
       "    <tr>\n",
       "      <th>...</th>\n",
       "      <td>...</td>\n",
       "      <td>...</td>\n",
       "    </tr>\n",
       "    <tr>\n",
       "      <th>350324</th>\n",
       "      <td>5.266666</td>\n",
       "      <td>30.0</td>\n",
       "    </tr>\n",
       "    <tr>\n",
       "      <th>350325</th>\n",
       "      <td>NaN</td>\n",
       "      <td>NaN</td>\n",
       "    </tr>\n",
       "    <tr>\n",
       "      <th>350326</th>\n",
       "      <td>1.866666</td>\n",
       "      <td>30.0</td>\n",
       "    </tr>\n",
       "    <tr>\n",
       "      <th>350327</th>\n",
       "      <td>17.500000</td>\n",
       "      <td>30.0</td>\n",
       "    </tr>\n",
       "    <tr>\n",
       "      <th>350328</th>\n",
       "      <td>NaN</td>\n",
       "      <td>NaN</td>\n",
       "    </tr>\n",
       "  </tbody>\n",
       "</table>\n",
       "<p>350329 rows × 2 columns</p>\n",
       "</div>"
      ],
      "text/plain": [
       "         HDWY_DEV  SCHEDULED_HDWY\n",
       "0             NaN             NaN\n",
       "1             NaN             NaN\n",
       "2             NaN             NaN\n",
       "3             NaN             NaN\n",
       "4             NaN             NaN\n",
       "...           ...             ...\n",
       "350324   5.266666            30.0\n",
       "350325        NaN             NaN\n",
       "350326   1.866666            30.0\n",
       "350327  17.500000            30.0\n",
       "350328        NaN             NaN\n",
       "\n",
       "[350329 rows x 2 columns]"
      ]
     },
     "execution_count": 26,
     "metadata": {},
     "output_type": "execute_result"
    }
   ],
   "source": [
    "wego[['HDWY_DEV', 'SCHEDULED_HDWY']]"
   ]
  },
  {
   "cell_type": "code",
   "execution_count": 36,
   "id": "ea802f16-844c-466d-88f0-228176b2835f",
   "metadata": {},
   "outputs": [
    {
     "data": {
      "text/plain": [
       "0              NaN\n",
       "1              NaN\n",
       "2              NaN\n",
       "3              NaN\n",
       "4              NaN\n",
       "            ...   \n",
       "350324    0.175556\n",
       "350325         NaN\n",
       "350326    0.062222\n",
       "350327    0.583333\n",
       "350328         NaN\n",
       "Length: 350329, dtype: float64"
      ]
     },
     "execution_count": 36,
     "metadata": {},
     "output_type": "execute_result"
    }
   ],
   "source": [
    "wego_dev_perc = wego['HDWY_DEV'] / wego['SCHEDULED_HDWY']\n",
    "wego_dev_perc"
   ]
  },
  {
   "cell_type": "code",
   "execution_count": 37,
   "id": "0c17e308-f78d-40f0-875f-c14eedd6594d",
   "metadata": {},
   "outputs": [
    {
     "data": {
      "text/plain": [
       "7          2.666666\n",
       "8          1.966666\n",
       "9         -0.483334\n",
       "11        -2.166667\n",
       "12        -3.883334\n",
       "            ...    \n",
       "350320     6.716666\n",
       "350323     4.916666\n",
       "350324     5.266666\n",
       "350326     1.866666\n",
       "350327    17.500000\n",
       "Name: HDWY_DEV, Length: 265893, dtype: float64"
      ]
     },
     "execution_count": 37,
     "metadata": {},
     "output_type": "execute_result"
    }
   ],
   "source": [
    "wego_dev = wego['HDWY_DEV'].dropna()\n",
    "wego_dev"
   ]
  },
  {
   "cell_type": "code",
   "execution_count": 29,
   "id": "0a2f2d19-62c1-4098-aadd-0f77875d3a3a",
   "metadata": {},
   "outputs": [
    {
     "data": {
      "text/plain": [
       "(265893,)"
      ]
     },
     "execution_count": 29,
     "metadata": {},
     "output_type": "execute_result"
    }
   ],
   "source": [
    "wego_dev.shape"
   ]
  },
  {
   "cell_type": "code",
   "execution_count": null,
   "id": "84736fde-2283-4b99-befd-1477229271f9",
   "metadata": {},
   "outputs": [],
   "source": []
  },
  {
   "cell_type": "code",
   "execution_count": null,
   "id": "53f227e8-f086-408a-aa2e-42fd1998941e",
   "metadata": {},
   "outputs": [],
   "source": []
  },
  {
   "cell_type": "code",
   "execution_count": 30,
   "id": "3f563a6f-ede7-4ecf-bee5-49f6d724f010",
   "metadata": {},
   "outputs": [
    {
     "data": {
      "text/plain": [
       "269843    565.433333\n",
       "270201    543.833333\n",
       "187826    529.550000\n",
       "53214     508.700000\n",
       "326698    505.233333\n",
       "             ...    \n",
       "227443    -49.666667\n",
       "227442    -50.316667\n",
       "108940    -53.166667\n",
       "108941    -55.533334\n",
       "30822     -64.000000\n",
       "Name: HDWY_DEV, Length: 265893, dtype: float64"
      ]
     },
     "execution_count": 30,
     "metadata": {},
     "output_type": "execute_result"
    }
   ],
   "source": [
    "deviation = wego_dev.sort_values(ascending=False)\n",
    "deviation"
   ]
  },
  {
   "cell_type": "code",
   "execution_count": 31,
   "id": "12352744-8479-49f6-928a-b86898ab29c1",
   "metadata": {},
   "outputs": [
    {
     "data": {
      "image/png": "[encoded data removed]",
      "text/plain": [
       "<Figure size 1000x600 with 1 Axes>"
      ]
     },
     "metadata": {},
     "output_type": "display_data"
    }
   ],
   "source": [
    "plt.figure(figsize=(10, 6))  # Set the figure size\n",
    "plt.hist(deviation, bins=1000, edgecolor='green') # Create the histogram\n",
    "plt.xlim(-20, 30)\n",
    "\n",
    "plt.title('Headway Deviation')  # Add a title\n",
    "# plt.xlabel('Value')  # Label the x-axis\n",
    "# plt.ylabel('Frequency')  # Label the y-axis\n",
    "plt.grid(True)  # Add grid lines for better readability\n",
    "\n",
    "plt.show()  # Display the plot"
   ]
  },
  {
   "cell_type": "code",
   "execution_count": 32,
   "id": "d4ec77b9-6d20-4783-ab57-db3d64afc974",
   "metadata": {},
   "outputs": [],
   "source": [
    "# try a stacked histogram in seaborn where you can see HDWY_DEV and ADHERENCE against each other?"
   ]
  },
  {
   "cell_type": "code",
   "execution_count": null,
   "id": "e3b8d5ba-c23f-4c66-95a1-6921f8378c0f",
   "metadata": {},
   "outputs": [],
   "source": []
  },
  {
   "cell_type": "code",
   "execution_count": null,
   "id": "1039eb3b-2270-4714-a326-dee9b8078481",
   "metadata": {},
   "outputs": [],
   "source": []
  },
  {
   "cell_type": "code",
   "execution_count": 33,
   "id": "b9e74d12-75cb-44c6-ba2e-63316b753253",
   "metadata": {},
   "outputs": [],
   "source": [
    "# valid4 = number4[(number4['HDWY_DEV_PCT'] >= 0.5) & (number4['HDWY_DEV_PCT'] <= 1.5)]"
   ]
  },
  {
   "cell_type": "code",
   "execution_count": null,
   "id": "8323b30f-5206-43de-9ead-7ae13bef6bf5",
   "metadata": {},
   "outputs": [],
   "source": []
  },
  {
   "cell_type": "code",
   "execution_count": null,
   "id": "1eaac308-5492-4bcb-b153-b6f8730c4925",
   "metadata": {},
   "outputs": [],
   "source": []
  }
 ],
 "metadata": {
  "kernelspec": {
   "display_name": "Python 3 (ipykernel)",
   "language": "python",
   "name": "python3"
  },
  "language_info": {
   "codemirror_mode": {
    "name": "ipython",
    "version": 3
   },
   "file_extension": ".py",
   "mimetype": "text/x-python",
   "name": "python",
   "nbconvert_exporter": "python",
   "pygments_lexer": "ipython3",
   "version": "3.11.7"
  }
 },
 "nbformat": 4,
 "nbformat_minor": 5
}
