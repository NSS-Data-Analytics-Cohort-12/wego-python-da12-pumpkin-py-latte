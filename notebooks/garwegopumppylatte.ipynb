{
 "cells": [
  {
   "cell_type": "markdown",
   "id": "133de074-18e8-4b88-9d9b-464cbf110e22",
   "metadata": {},
   "source": [
    "hat is the overall on-time performance, and what do the overall distributions of adherence and headway deviation look like? "
   ]
  },
  {
   "cell_type": "code",
   "execution_count": 2,
   "id": "105cd7f9-9bbc-421f-b510-7c6dced21556",
   "metadata": {},
   "outputs": [],
   "source": [
    "import pandas as pd\n",
    "import matplotlib.pyplot as plt\n",
    "import seaborn as sns\n",
    "import numpy as np\n",
    "\n",
    "\n",
    "\n"
   ]
  },
  {
   "cell_type": "code",
   "execution_count": 4,
   "id": "a91d6acc-e75a-4b3c-8d27-2b3bd0a79513",
   "metadata": {},
   "outputs": [
    {
     "name": "stdout",
     "output_type": "stream",
     "text": [
      "<class 'pandas.core.frame.DataFrame'>\n",
      "RangeIndex: 350329 entries, 0 to 350328\n",
      "Data columns (total 30 columns):\n",
      " #   Column                     Non-Null Count   Dtype  \n",
      "---  ------                     --------------   -----  \n",
      " 0   CALENDAR_ID                350329 non-null  int64  \n",
      " 1   SERVICE_ABBR               350329 non-null  int64  \n",
      " 2   ADHERENCE_ID               350329 non-null  int64  \n",
      " 3   DATE                       350329 non-null  object \n",
      " 4   ROUTE_ABBR                 350329 non-null  int64  \n",
      " 5   BLOCK_ABBR                 350329 non-null  int64  \n",
      " 6   OPERATOR                   350329 non-null  int64  \n",
      " 7   TRIP_ID                    350329 non-null  int64  \n",
      " 8   OVERLOAD_ID                350329 non-null  int64  \n",
      " 9   ROUTE_DIRECTION_NAME       350329 non-null  object \n",
      " 10  TIME_POINT_ABBR            350329 non-null  object \n",
      " 11  ROUTE_STOP_SEQUENCE        350318 non-null  float64\n",
      " 12  TRIP_EDGE                  350329 non-null  int64  \n",
      " 13  LATITUDE                   350329 non-null  float64\n",
      " 14  LONGITUDE                  350329 non-null  float64\n",
      " 15  SCHEDULED_TIME             350329 non-null  object \n",
      " 16  ACTUAL_ARRIVAL_TIME        338870 non-null  object \n",
      " 17  ACTUAL_DEPARTURE_TIME      338861 non-null  object \n",
      " 18  ADHERENCE                  338861 non-null  float64\n",
      " 19  SCHEDULED_HDWY             274738 non-null  float64\n",
      " 20  ACTUAL_HDWY                266062 non-null  float64\n",
      " 21  HDWY_DEV                   265893 non-null  float64\n",
      " 22  ADJUSTED_EARLY_COUNT       350329 non-null  int64  \n",
      " 23  ADJUSTED_LATE_COUNT        350329 non-null  int64  \n",
      " 24  ADJUSTED_ONTIME_COUNT      350329 non-null  int64  \n",
      " 25  STOP_CANCELLED             350329 non-null  int64  \n",
      " 26  PREV_SCHED_STOP_CANCELLED  280000 non-null  float64\n",
      " 27  IS_RELIEF                  350329 non-null  int64  \n",
      " 28  DWELL_IN_MINS              338858 non-null  float64\n",
      " 29  SCHEDULED_LAYOVER_MINUTES  53102 non-null   float64\n",
      "dtypes: float64(10), int64(14), object(6)\n",
      "memory usage: 80.2+ MB\n"
     ]
    }
   ],
   "source": [
    "wego = pd.read_csv(r\"C:\\Users\\Brian\\OneDrive\\Desktop\\DA12\\projects\\Python\\wego-python-da12-pumpkin-py-latte\\data\\Headway Data, 8-1-2023 to 9-30-2023.csv\")\n",
    "\n",
    "wego.head()\n",
    "wego.describe()\n",
    "wego.info()"
   ]
  },
  {
   "cell_type": "code",
   "execution_count": 8,
   "id": "afc59964-0c85-4517-bbc9-247852a6a097",
   "metadata": {},
   "outputs": [
    {
     "name": "stdout",
     "output_type": "stream",
     "text": [
      "ROUTE_STOP_SEQUENCE              11\n",
      "ACTUAL_ARRIVAL_TIME           11459\n",
      "ACTUAL_DEPARTURE_TIME         11468\n",
      "ADHERENCE                     11468\n",
      "SCHEDULED_HDWY                75591\n",
      "ACTUAL_HDWY                   84267\n",
      "HDWY_DEV                      84436\n",
      "PREV_SCHED_STOP_CANCELLED     70329\n",
      "DWELL_IN_MINS                 11471\n",
      "SCHEDULED_LAYOVER_MINUTES    297227\n",
      "dtype: int64\n"
     ]
    }
   ],
   "source": [
    "# Check for missing values\n",
    "missing_values = wego.isnull().sum()\n",
    "\n",
    "# View the columns with missing values\n",
    "print(missing_values[missing_values > 0])\n"
   ]
  },
  {
   "cell_type": "code",
   "execution_count": 12,
   "id": "1dcef6d4-8e1e-4ee0-bcae-e306d4b23335",
   "metadata": {},
   "outputs": [],
   "source": []
  },
  {
   "cell_type": "code",
   "execution_count": 14,
   "id": "9952a250-698f-4a97-961b-960665409258",
   "metadata": {},
   "outputs": [
    {
     "name": "stdout",
     "output_type": "stream",
     "text": [
      "CALENDAR_ID                       0\n",
      "SERVICE_ABBR                      0\n",
      "ADHERENCE_ID                      0\n",
      "DATE                              0\n",
      "ROUTE_ABBR                        0\n",
      "BLOCK_ABBR                        0\n",
      "OPERATOR                          0\n",
      "TRIP_ID                           0\n",
      "OVERLOAD_ID                       0\n",
      "ROUTE_DIRECTION_NAME              0\n",
      "TIME_POINT_ABBR                   0\n",
      "ROUTE_STOP_SEQUENCE              11\n",
      "TRIP_EDGE                         0\n",
      "LATITUDE                          0\n",
      "LONGITUDE                         0\n",
      "SCHEDULED_TIME                    0\n",
      "ACTUAL_ARRIVAL_TIME           11459\n",
      "ACTUAL_DEPARTURE_TIME         11468\n",
      "ADHERENCE                     11468\n",
      "SCHEDULED_HDWY                75591\n",
      "ACTUAL_HDWY                   84267\n",
      "HDWY_DEV                      84436\n",
      "ADJUSTED_EARLY_COUNT              0\n",
      "ADJUSTED_LATE_COUNT               0\n",
      "ADJUSTED_ONTIME_COUNT             0\n",
      "STOP_CANCELLED                    0\n",
      "PREV_SCHED_STOP_CANCELLED     70329\n",
      "IS_RELIEF                         0\n",
      "DWELL_IN_MINS                 11471\n",
      "SCHEDULED_LAYOVER_MINUTES    297227\n",
      "dtype: int64\n",
      "        CALENDAR_ID   SERVICE_ABBR  ADHERENCE_ID  \\\n",
      "count  3.503290e+05  350329.000000  3.503290e+05   \n",
      "mean   1.202309e+08       1.298465  1.001038e+08   \n",
      "min    1.202308e+08       1.000000  9.945789e+07   \n",
      "25%    1.202308e+08       1.000000  9.989140e+07   \n",
      "50%    1.202308e+08       1.000000  1.001346e+08   \n",
      "75%    1.202309e+08       1.000000  1.003481e+08   \n",
      "max    1.202309e+08       3.000000  1.007029e+08   \n",
      "std    5.063417e+01       0.633101  3.227503e+05   \n",
      "\n",
      "                                DATE     ROUTE_ABBR     BLOCK_ABBR  \\\n",
      "count                         350329  350329.000000  350329.000000   \n",
      "mean   2023-08-30 21:39:03.464572672      38.348033    3846.948617   \n",
      "min              2023-08-01 00:00:00       3.000000     300.000000   \n",
      "25%              2023-08-16 00:00:00      22.000000    2211.000000   \n",
      "50%              2023-08-31 00:00:00      50.000000    5006.000000   \n",
      "75%              2023-09-15 00:00:00      55.000000    5505.000000   \n",
      "max              2023-09-30 00:00:00      56.000000    9975.000000   \n",
      "std                              NaN      20.338342    2042.237357   \n",
      "\n",
      "            OPERATOR        TRIP_ID    OVERLOAD_ID  ROUTE_STOP_SEQUENCE  ...  \\\n",
      "count  350329.000000  350329.000000  350329.000000        350318.000000  ...   \n",
      "mean     1951.130514  351609.792895       0.006631             7.351284  ...   \n",
      "min         0.000000  345104.000000       0.000000             1.000000  ...   \n",
      "25%      1391.000000  350900.000000       0.000000             4.000000  ...   \n",
      "50%      2012.000000  352001.000000       0.000000             6.000000  ...   \n",
      "75%      2585.000000  352669.000000       0.000000            10.000000  ...   \n",
      "max      3173.000000  354106.000000       4.000000            17.000000  ...   \n",
      "std       769.827675    1490.949102       0.097167             4.033002  ...   \n",
      "\n",
      "         ACTUAL_HDWY       HDWY_DEV  ADJUSTED_EARLY_COUNT  \\\n",
      "count  266062.000000  265893.000000         350329.000000   \n",
      "mean       18.648561       0.518081              0.027902   \n",
      "min         0.000000     -64.000000              0.000000   \n",
      "25%        11.000000      -2.316667              0.000000   \n",
      "50%        16.183333       0.033333              0.000000   \n",
      "75%        23.250000       2.483333              0.000000   \n",
      "max       590.433333     565.433333              1.000000   \n",
      "std        14.330568       7.161798              0.164693   \n",
      "\n",
      "       ADJUSTED_LATE_COUNT  ADJUSTED_ONTIME_COUNT  STOP_CANCELLED  \\\n",
      "count        350329.000000          350329.000000   350329.000000   \n",
      "mean              0.168522               0.770841        0.015263   \n",
      "min               0.000000               0.000000        0.000000   \n",
      "25%               0.000000               1.000000        0.000000   \n",
      "50%               0.000000               1.000000        0.000000   \n",
      "75%               0.000000               1.000000        0.000000   \n",
      "max               1.000000               1.000000        1.000000   \n",
      "std               0.374329               0.420292        0.122596   \n",
      "\n",
      "       PREV_SCHED_STOP_CANCELLED      IS_RELIEF  DWELL_IN_MINS  \\\n",
      "count              280000.000000  350329.000000  338858.000000   \n",
      "mean                    0.015193       0.011954       2.963915   \n",
      "min                     0.000000       0.000000    -208.033333   \n",
      "25%                     0.000000       0.000000       0.000000   \n",
      "50%                     0.000000       0.000000       0.000000   \n",
      "75%                     0.000000       0.000000       1.950000   \n",
      "max                     1.000000       1.000000     956.500000   \n",
      "std                     0.122320       0.108681       7.402934   \n",
      "\n",
      "       SCHEDULED_LAYOVER_MINUTES  \n",
      "count               53102.000000  \n",
      "mean                   12.628168  \n",
      "min                     0.000000  \n",
      "25%                    10.000000  \n",
      "50%                    10.000000  \n",
      "75%                    16.000000  \n",
      "max                   118.000000  \n",
      "std                     6.393862  \n",
      "\n",
      "[8 rows x 25 columns]\n"
     ]
    },
    {
     "data": {
      "image/png": "[encoded data removed]",
      "text/plain": [
       "<Figure size 1200x600 with 2 Axes>"
      ]
     },
     "metadata": {},
     "output_type": "display_data"
    }
   ],
   "source": [
    "# Check for missing values in each column\n",
    "print(wego.isnull().sum())\n",
    "\n",
    "# Convert DATE column to datetime\n",
    "wego['DATE'] = pd.to_datetime(wego['DATE'])\n",
    "\n",
    "# Describe numeric columns\n",
    "print(wego.describe())\n",
    "\n",
    "# Visualize distribution of key variables\n",
    "plt.figure(figsize=(12, 6))\n",
    "\n",
    "# Histogram for ADHERENCE\n",
    "plt.subplot(1, 2, 1)\n",
    "sns.histplot(wego['ADHERENCE'].dropna(), bins=50)\n",
    "plt.title('Distribution of Adherence')\n",
    "\n",
    "# Histogram for HDWY_DEV\n",
    "plt.subplot(1, 2, 2)\n",
    "sns.histplot(wego['HDWY_DEV'].dropna(), bins=50)\n",
    "plt.title('Distribution of Headway Deviation')\n",
    "\n",
    "plt.tight_layout()\n",
    "plt.show()\n"
   ]
  },
  {
   "cell_type": "markdown",
   "id": "3ce7b08c-1248-4e1c-8bea-a7206f73132b",
   "metadata": {},
   "source": [
    "1. What is the overall on-time performance, and what do the overall distributions of adherence and headway deviation look like? \n"
   ]
  },
  {
   "cell_type": "code",
   "execution_count": null,
   "id": "b9a9f22a-f4db-4679-af98-8f2a96a820e3",
   "metadata": {},
   "outputs": [],
   "source": []
  },
  {
   "cell_type": "code",
   "execution_count": null,
   "id": "ca7a6530-b391-4d62-b720-56fe000b10b9",
   "metadata": {},
   "outputs": [],
   "source": []
  },
  {
   "cell_type": "code",
   "execution_count": null,
   "id": "5a3b2d71-0b31-4e20-a70b-eaa6dd5e6d2b",
   "metadata": {},
   "outputs": [],
   "source": []
  },
  {
   "cell_type": "markdown",
   "id": "226d12f4-4987-4d4f-98e1-7b15a6d4909f",
   "metadata": {},
   "source": [
    "2. How does direction of travel, route, or location affect the headway and on-time performance?\n"
   ]
  },
  {
   "cell_type": "code",
   "execution_count": null,
   "id": "8405c9d3-4eb8-43de-9b51-6f34056fb386",
   "metadata": {},
   "outputs": [],
   "source": []
  },
  {
   "cell_type": "code",
   "execution_count": null,
   "id": "b4ed1984-9239-4bb7-94cd-10bb275a7365",
   "metadata": {},
   "outputs": [],
   "source": []
  },
  {
   "cell_type": "code",
   "execution_count": null,
   "id": "9c56afd9-791a-42dc-8475-2357c74c2dff",
   "metadata": {},
   "outputs": [],
   "source": []
  },
  {
   "cell_type": "markdown",
   "id": "2171eb3d-a950-4373-882c-83ffc6360a45",
   "metadata": {},
   "source": [
    "3. How does time of day or day of week affect headway and on-time performance?\n"
   ]
  },
  {
   "cell_type": "code",
   "execution_count": null,
   "id": "218e4948-a8ac-4e4e-86da-47f2c274eaeb",
   "metadata": {},
   "outputs": [],
   "source": []
  },
  {
   "cell_type": "markdown",
   "id": "8ec52205-c233-4afd-b3f8-0e8543cb3de8",
   "metadata": {},
   "source": [
    "Recomend scatter plots "
   ]
  },
  {
   "cell_type": "code",
   "execution_count": null,
   "id": "c6917cff-be85-4318-a9d5-56674aab3fe7",
   "metadata": {},
   "outputs": [],
   "source": []
  },
  {
   "cell_type": "markdown",
   "id": "563bbd6a-f387-445f-b09d-2a4a18735db7",
   "metadata": {},
   "source": [
    "scatter plots for headway vs time of day"
   ]
  },
  {
   "cell_type": "code",
   "execution_count": null,
   "id": "7077eb9e-e66b-41cb-8617-9c38f5377256",
   "metadata": {},
   "outputs": [],
   "source": []
  },
  {
   "cell_type": "markdown",
   "id": "029e5985-b23f-4d22-a3cd-b219e0d11691",
   "metadata": {},
   "source": [
    "scatter plot for all trips vs day of the week....if day of week is single value rather than scalar value recomend histo gram of avg "
   ]
  },
  {
   "cell_type": "code",
   "execution_count": null,
   "id": "737f4438-cf9d-4d74-b276-7166856f3d95",
   "metadata": {},
   "outputs": [],
   "source": []
  },
  {
   "cell_type": "markdown",
   "id": "d690dc57-63e3-40d2-ae5a-043825eade5d",
   "metadata": {},
   "source": [
    "When doe bus drivers shifts begin or end? do they get breaks? are good outcomes assoicated with after lunch or breaks?"
   ]
  },
  {
   "cell_type": "code",
   "execution_count": null,
   "id": "f20b39bc-f58a-43a0-b30e-9a78e5d8ec26",
   "metadata": {},
   "outputs": [],
   "source": []
  },
  {
   "cell_type": "code",
   "execution_count": null,
   "id": "20bb92e6-ec5e-4d99-ae88-734210f02dc1",
   "metadata": {},
   "outputs": [],
   "source": []
  },
  {
   "cell_type": "markdown",
   "id": "12528805-5e61-40ef-b2d5-597a408910e1",
   "metadata": {},
   "source": [
    "4. How much of a factor does the driver have on headway and on-time performance? The driver is indicated by the OPERATOR variable.\n"
   ]
  },
  {
   "cell_type": "code",
   "execution_count": null,
   "id": "a901dd37-dbbf-4429-a42a-ed3f8c0cda5f",
   "metadata": {},
   "outputs": [],
   "source": []
  },
  {
   "cell_type": "code",
   "execution_count": null,
   "id": "468784e6-21c3-42e3-89ba-ac016b9362ff",
   "metadata": {},
   "outputs": [],
   "source": []
  },
  {
   "cell_type": "code",
   "execution_count": null,
   "id": "ef98308c-2eef-4f5b-9edb-0e65d41422eb",
   "metadata": {},
   "outputs": [],
   "source": []
  },
  {
   "cell_type": "markdown",
   "id": "2ada45a1-a9c2-4670-8601-57a2b81cf2ff",
   "metadata": {},
   "source": [
    "5. Is there any relationship between lateness (ADHERENCE) and headway deviation?\n"
   ]
  },
  {
   "cell_type": "code",
   "execution_count": null,
   "id": "8e9ec0b1-ba3c-438f-a3ca-6702efc068d5",
   "metadata": {},
   "outputs": [],
   "source": []
  },
  {
   "cell_type": "code",
   "execution_count": null,
   "id": "5971f01c-5339-47d9-b9bc-687c6a30b103",
   "metadata": {},
   "outputs": [],
   "source": []
  },
  {
   "cell_type": "markdown",
   "id": "f1d6a2a5-7d97-4459-a9a8-740f922f27d5",
   "metadata": {},
   "source": [
    "**Stretch Goals:**  \n"
   ]
  },
  {
   "cell_type": "markdown",
   "id": "df0d866c-879b-4c00-9497-f8ffce38d283",
   "metadata": {},
   "source": [
    "6. How much impact does being late or too spaced out at the first stop have downstream?  \n"
   ]
  },
  {
   "cell_type": "code",
   "execution_count": null,
   "id": "6b4d8a69-a8af-41f9-9eb2-7bc25f6e67d7",
   "metadata": {},
   "outputs": [],
   "source": []
  },
  {
   "cell_type": "code",
   "execution_count": null,
   "id": "6fb3677c-6616-4986-9413-61a89fd9698a",
   "metadata": {},
   "outputs": [],
   "source": []
  },
  {
   "cell_type": "code",
   "execution_count": null,
   "id": "84e1ed51-9ea9-4860-94c0-538e1ad8448f",
   "metadata": {},
   "outputs": [],
   "source": []
  },
  {
   "cell_type": "markdown",
   "id": "76ee9a65-be53-44e3-a2cd-2129955b9204",
   "metadata": {},
   "source": [
    "7. What is the impact of the layover at the start of the trip (the difference between the first stop arrival and departure time)? Does more dwell time at the beginning of a trip lead to more stable headways (lower values for % headway deviation)? Do trips with longer **scheduled** layover time have more stable headway values?  \n"
   ]
  },
  {
   "cell_type": "code",
   "execution_count": null,
   "id": "027f01bb-a8bd-405e-9754-badf7fc1ec5f",
   "metadata": {},
   "outputs": [],
   "source": []
  },
  {
   "cell_type": "code",
   "execution_count": null,
   "id": "b6b368b5-e666-4ece-ace2-78c53404ca2e",
   "metadata": {},
   "outputs": [],
   "source": []
  },
  {
   "cell_type": "code",
   "execution_count": null,
   "id": "69594d2f-0af3-4033-a76d-1721e460ef2b",
   "metadata": {},
   "outputs": [],
   "source": []
  },
  {
   "cell_type": "markdown",
   "id": "9f996406-b8a5-4216-925a-87557161d3a0",
   "metadata": {},
   "source": [
    "8. What is the relationship between distance or time traveled since the start of a given trip and the headway deviation? Does headway become less stable the further along the route the bus has traveled?\n"
   ]
  },
  {
   "cell_type": "code",
   "execution_count": null,
   "id": "01500851-f264-4f26-a2b6-955ce0df32c8",
   "metadata": {},
   "outputs": [],
   "source": []
  }
 ],
 "metadata": {
  "kernelspec": {
   "display_name": "Python 3 (ipykernel)",
   "language": "python",
   "name": "python3"
  },
  "language_info": {
   "codemirror_mode": {
    "name": "ipython",
    "version": 3
   },
   "file_extension": ".py",
   "mimetype": "text/x-python",
   "name": "python",
   "nbconvert_exporter": "python",
   "pygments_lexer": "ipython3",
   "version": "3.12.4"
  }
 },
 "nbformat": 4,
 "nbformat_minor": 5
}
