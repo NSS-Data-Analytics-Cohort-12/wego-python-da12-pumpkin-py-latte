{
 "cells": [
  {
   "cell_type": "code",
   "execution_count": 35,
   "id": "853b37a2-ea39-4bbf-8b49-9610e0a9bb88",
   "metadata": {},
   "outputs": [],
   "source": [
    "import pandas as pd"
   ]
  },
  {
   "cell_type": "code",
   "execution_count": 37,
   "id": "a0047d1a-546b-4cad-85e8-c5d0f7d5b410",
   "metadata": {},
   "outputs": [
    {
     "data": {
      "text/html": [
       "<div>\n",
       "<style scoped>\n",
       "    .dataframe tbody tr th:only-of-type {\n",
       "        vertical-align: middle;\n",
       "    }\n",
       "\n",
       "    .dataframe tbody tr th {\n",
       "        vertical-align: top;\n",
       "    }\n",
       "\n",
       "    .dataframe thead th {\n",
       "        text-align: right;\n",
       "    }\n",
       "</style>\n",
       "<table border=\"1\" class=\"dataframe\">\n",
       "  <thead>\n",
       "    <tr style=\"text-align: right;\">\n",
       "      <th></th>\n",
       "      <th>CALENDAR_ID</th>\n",
       "      <th>SERVICE_ABBR</th>\n",
       "      <th>ADHERENCE_ID</th>\n",
       "      <th>DATE</th>\n",
       "      <th>ROUTE_ABBR</th>\n",
       "      <th>BLOCK_ABBR</th>\n",
       "      <th>OPERATOR</th>\n",
       "      <th>TRIP_ID</th>\n",
       "      <th>OVERLOAD_ID</th>\n",
       "      <th>ROUTE_DIRECTION_NAME</th>\n",
       "      <th>...</th>\n",
       "      <th>ACTUAL_HDWY</th>\n",
       "      <th>HDWY_DEV</th>\n",
       "      <th>ADJUSTED_EARLY_COUNT</th>\n",
       "      <th>ADJUSTED_LATE_COUNT</th>\n",
       "      <th>ADJUSTED_ONTIME_COUNT</th>\n",
       "      <th>STOP_CANCELLED</th>\n",
       "      <th>PREV_SCHED_STOP_CANCELLED</th>\n",
       "      <th>IS_RELIEF</th>\n",
       "      <th>DWELL_IN_MINS</th>\n",
       "      <th>SCHEDULED_LAYOVER_MINUTES</th>\n",
       "    </tr>\n",
       "  </thead>\n",
       "  <tbody>\n",
       "    <tr>\n",
       "      <th>0</th>\n",
       "      <td>120230801</td>\n",
       "      <td>1</td>\n",
       "      <td>99457890</td>\n",
       "      <td>2023-08-01</td>\n",
       "      <td>22</td>\n",
       "      <td>2200</td>\n",
       "      <td>1040</td>\n",
       "      <td>345104</td>\n",
       "      <td>0</td>\n",
       "      <td>TO DOWNTOWN</td>\n",
       "      <td>...</td>\n",
       "      <td>NaN</td>\n",
       "      <td>NaN</td>\n",
       "      <td>0</td>\n",
       "      <td>0</td>\n",
       "      <td>1</td>\n",
       "      <td>0</td>\n",
       "      <td>0.0</td>\n",
       "      <td>0</td>\n",
       "      <td>6.500000</td>\n",
       "      <td>NaN</td>\n",
       "    </tr>\n",
       "    <tr>\n",
       "      <th>1</th>\n",
       "      <td>120230801</td>\n",
       "      <td>1</td>\n",
       "      <td>99457891</td>\n",
       "      <td>2023-08-01</td>\n",
       "      <td>22</td>\n",
       "      <td>2200</td>\n",
       "      <td>1040</td>\n",
       "      <td>345104</td>\n",
       "      <td>0</td>\n",
       "      <td>TO DOWNTOWN</td>\n",
       "      <td>...</td>\n",
       "      <td>NaN</td>\n",
       "      <td>NaN</td>\n",
       "      <td>0</td>\n",
       "      <td>0</td>\n",
       "      <td>1</td>\n",
       "      <td>0</td>\n",
       "      <td>0.0</td>\n",
       "      <td>0</td>\n",
       "      <td>0.000000</td>\n",
       "      <td>NaN</td>\n",
       "    </tr>\n",
       "    <tr>\n",
       "      <th>2</th>\n",
       "      <td>120230801</td>\n",
       "      <td>1</td>\n",
       "      <td>99457892</td>\n",
       "      <td>2023-08-01</td>\n",
       "      <td>22</td>\n",
       "      <td>2200</td>\n",
       "      <td>1040</td>\n",
       "      <td>345104</td>\n",
       "      <td>0</td>\n",
       "      <td>TO DOWNTOWN</td>\n",
       "      <td>...</td>\n",
       "      <td>NaN</td>\n",
       "      <td>NaN</td>\n",
       "      <td>0</td>\n",
       "      <td>0</td>\n",
       "      <td>1</td>\n",
       "      <td>0</td>\n",
       "      <td>0.0</td>\n",
       "      <td>0</td>\n",
       "      <td>0.000000</td>\n",
       "      <td>NaN</td>\n",
       "    </tr>\n",
       "    <tr>\n",
       "      <th>3</th>\n",
       "      <td>120230801</td>\n",
       "      <td>1</td>\n",
       "      <td>99457893</td>\n",
       "      <td>2023-08-01</td>\n",
       "      <td>22</td>\n",
       "      <td>2200</td>\n",
       "      <td>1040</td>\n",
       "      <td>345104</td>\n",
       "      <td>0</td>\n",
       "      <td>TO DOWNTOWN</td>\n",
       "      <td>...</td>\n",
       "      <td>NaN</td>\n",
       "      <td>NaN</td>\n",
       "      <td>0</td>\n",
       "      <td>0</td>\n",
       "      <td>1</td>\n",
       "      <td>0</td>\n",
       "      <td>NaN</td>\n",
       "      <td>0</td>\n",
       "      <td>0.000000</td>\n",
       "      <td>NaN</td>\n",
       "    </tr>\n",
       "    <tr>\n",
       "      <th>4</th>\n",
       "      <td>120230801</td>\n",
       "      <td>1</td>\n",
       "      <td>99457894</td>\n",
       "      <td>2023-08-01</td>\n",
       "      <td>22</td>\n",
       "      <td>2200</td>\n",
       "      <td>1040</td>\n",
       "      <td>345105</td>\n",
       "      <td>0</td>\n",
       "      <td>FROM DOWNTOWN</td>\n",
       "      <td>...</td>\n",
       "      <td>NaN</td>\n",
       "      <td>NaN</td>\n",
       "      <td>0</td>\n",
       "      <td>0</td>\n",
       "      <td>1</td>\n",
       "      <td>0</td>\n",
       "      <td>0.0</td>\n",
       "      <td>0</td>\n",
       "      <td>12.866666</td>\n",
       "      <td>5.0</td>\n",
       "    </tr>\n",
       "  </tbody>\n",
       "</table>\n",
       "<p>5 rows × 30 columns</p>\n",
       "</div>"
      ],
      "text/plain": [
       "   CALENDAR_ID  SERVICE_ABBR  ADHERENCE_ID        DATE  ROUTE_ABBR  \\\n",
       "0    120230801             1      99457890  2023-08-01          22   \n",
       "1    120230801             1      99457891  2023-08-01          22   \n",
       "2    120230801             1      99457892  2023-08-01          22   \n",
       "3    120230801             1      99457893  2023-08-01          22   \n",
       "4    120230801             1      99457894  2023-08-01          22   \n",
       "\n",
       "   BLOCK_ABBR  OPERATOR  TRIP_ID  OVERLOAD_ID ROUTE_DIRECTION_NAME  ...  \\\n",
       "0        2200      1040   345104            0          TO DOWNTOWN  ...   \n",
       "1        2200      1040   345104            0          TO DOWNTOWN  ...   \n",
       "2        2200      1040   345104            0          TO DOWNTOWN  ...   \n",
       "3        2200      1040   345104            0          TO DOWNTOWN  ...   \n",
       "4        2200      1040   345105            0        FROM DOWNTOWN  ...   \n",
       "\n",
       "  ACTUAL_HDWY  HDWY_DEV  ADJUSTED_EARLY_COUNT  ADJUSTED_LATE_COUNT  \\\n",
       "0         NaN       NaN                     0                    0   \n",
       "1         NaN       NaN                     0                    0   \n",
       "2         NaN       NaN                     0                    0   \n",
       "3         NaN       NaN                     0                    0   \n",
       "4         NaN       NaN                     0                    0   \n",
       "\n",
       "   ADJUSTED_ONTIME_COUNT STOP_CANCELLED PREV_SCHED_STOP_CANCELLED IS_RELIEF  \\\n",
       "0                      1              0                       0.0         0   \n",
       "1                      1              0                       0.0         0   \n",
       "2                      1              0                       0.0         0   \n",
       "3                      1              0                       NaN         0   \n",
       "4                      1              0                       0.0         0   \n",
       "\n",
       "   DWELL_IN_MINS  SCHEDULED_LAYOVER_MINUTES  \n",
       "0       6.500000                        NaN  \n",
       "1       0.000000                        NaN  \n",
       "2       0.000000                        NaN  \n",
       "3       0.000000                        NaN  \n",
       "4      12.866666                        5.0  \n",
       "\n",
       "[5 rows x 30 columns]"
      ]
     },
     "execution_count": 37,
     "metadata": {},
     "output_type": "execute_result"
    }
   ],
   "source": [
    "wego = pd.read_csv(\"C:\\\\DA12\\\\Projects\\\\Python\\\\Projects\\\\wego-python-da12-pumpkin-py-latte\\\\data\\\\Headway Data, 8-1-2023 to 9-30-2023.csv\")\n",
    "\n",
    "wego.head()"
   ]
  },
  {
   "cell_type": "code",
   "execution_count": 38,
   "id": "87d5d0ae-aee5-45c9-ac1d-99838b771af9",
   "metadata": {},
   "outputs": [
    {
     "data": {
      "text/plain": [
       "Index(['CALENDAR_ID', 'SERVICE_ABBR', 'ADHERENCE_ID', 'DATE', 'ROUTE_ABBR',\n",
       "       'BLOCK_ABBR', 'OPERATOR', 'TRIP_ID', 'OVERLOAD_ID',\n",
       "       'ROUTE_DIRECTION_NAME', 'TIME_POINT_ABBR', 'ROUTE_STOP_SEQUENCE',\n",
       "       'TRIP_EDGE', 'LATITUDE', 'LONGITUDE', 'SCHEDULED_TIME',\n",
       "       'ACTUAL_ARRIVAL_TIME', 'ACTUAL_DEPARTURE_TIME', 'ADHERENCE',\n",
       "       'SCHEDULED_HDWY', 'ACTUAL_HDWY', 'HDWY_DEV', 'ADJUSTED_EARLY_COUNT',\n",
       "       'ADJUSTED_LATE_COUNT', 'ADJUSTED_ONTIME_COUNT', 'STOP_CANCELLED',\n",
       "       'PREV_SCHED_STOP_CANCELLED', 'IS_RELIEF', 'DWELL_IN_MINS',\n",
       "       'SCHEDULED_LAYOVER_MINUTES'],\n",
       "      dtype='object')"
      ]
     },
     "execution_count": 38,
     "metadata": {},
     "output_type": "execute_result"
    }
   ],
   "source": [
    "wego.columns"
   ]
  },
  {
   "cell_type": "code",
   "execution_count": 39,
   "id": "9071b481-2381-4b56-8a81-77f5d625224a",
   "metadata": {},
   "outputs": [
    {
     "data": {
      "text/plain": [
       "ROUTE_ABBR\n",
       "3     47162\n",
       "7     18026\n",
       "22    25959\n",
       "23    42108\n",
       "50    43291\n",
       "52    51819\n",
       "55    61944\n",
       "56    60020\n",
       "Name: count, dtype: int64"
      ]
     },
     "execution_count": 39,
     "metadata": {},
     "output_type": "execute_result"
    }
   ],
   "source": [
    "wego['ROUTE_ABBR'].value_counts().sort_index()"
   ]
  },
  {
   "cell_type": "code",
   "execution_count": 40,
   "id": "d59a357c-4483-4e46-b0de-a77474566cb3",
   "metadata": {
    "scrolled": true
   },
   "outputs": [
    {
     "ename": "SyntaxError",
     "evalue": "illegal target for annotation (2676150292.py, line 2)",
     "output_type": "error",
     "traceback": [
      "\u001b[1;36m  Cell \u001b[1;32mIn[40], line 2\u001b[1;36m\u001b[0m\n\u001b[1;33m    3: West End\u001b[0m\n\u001b[1;37m    ^\u001b[0m\n\u001b[1;31mSyntaxError\u001b[0m\u001b[1;31m:\u001b[0m illegal target for annotation\n"
     ]
    }
   ],
   "source": [
    "### Route Abbreviations Key ###\n",
    "3: West End\n",
    "7: Hillsboro\n",
    "22: Bordeaux\n",
    "23: Dickerson Pike\n",
    "50: Charlotte Pike\n",
    "52: Nolensville Pike\n",
    "55: Murfreesboro Pike\n",
    "56: Gallatin Pike\n",
    "### ###"
   ]
  },
  {
   "cell_type": "code",
   "execution_count": 177,
   "id": "c016ff02-b1db-44e7-b313-97b49132195d",
   "metadata": {},
   "outputs": [
    {
     "name": "stdout",
     "output_type": "stream",
     "text": [
      "              DATE  TRIP_ID ROUTE_DIRECTION_NAME  ROUTE_ABBR   LATITUDE  \\\n",
      "0       2023-08-01   345104          TO DOWNTOWN          22  36.181248   \n",
      "1       2023-08-01   345104          TO DOWNTOWN          22  36.193454   \n",
      "2       2023-08-01   345104          TO DOWNTOWN          22  36.182177   \n",
      "3       2023-08-01   345104          TO DOWNTOWN          22  36.167091   \n",
      "4       2023-08-01   345105        FROM DOWNTOWN          22  36.167091   \n",
      "...            ...      ...                  ...         ...        ...   \n",
      "350324  2023-09-30   353448          TO DOWNTOWN           7  36.138372   \n",
      "350325  2023-09-30   353448          TO DOWNTOWN           7  36.167091   \n",
      "350326  2023-09-30   353449        FROM DOWNTOWN           7  36.167091   \n",
      "350327  2023-09-30   353449        FROM DOWNTOWN           7  36.138881   \n",
      "350328  2023-09-30   353449        FROM DOWNTOWN           7  36.107575   \n",
      "\n",
      "        LONGITUDE       SCHEDULED_TIME  ACTUAL_ARRIVAL_TIME  \\\n",
      "0      -86.847705  2023-08-01 04:42:00  2023-08-01 04:37:38   \n",
      "1      -86.839981  2023-08-01 04:46:00  2023-08-01 04:48:27   \n",
      "2      -86.814445  2023-08-01 04:54:00  2023-08-01 04:54:56   \n",
      "3      -86.781923  2023-08-01 05:10:00  2023-08-01 05:03:43   \n",
      "4      -86.781923  2023-08-01 05:15:00  2023-08-01 05:03:43   \n",
      "...           ...                  ...                  ...   \n",
      "350324 -86.800622  2023-09-30 22:23:00  2023-09-30 22:31:26   \n",
      "350325 -86.781923  2023-09-30 22:38:00  2023-09-30 22:49:18   \n",
      "350326 -86.781923  2023-09-30 22:45:00  2023-09-30 22:49:19   \n",
      "350327 -86.800622  2023-09-30 22:59:00  2023-09-30 23:21:05   \n",
      "350328 -86.812719  2023-09-30 23:11:00  2023-09-30 23:31:27   \n",
      "\n",
      "       ACTUAL_DEPARTURE_TIME  ADHERENCE  SCHEDULED_HDWY  ACTUAL_HDWY  \\\n",
      "0        2023-08-01 04:44:08  -2.133333             NaN          NaN   \n",
      "1        2023-08-01 04:48:27  -2.450000             NaN          NaN   \n",
      "2        2023-08-01 04:54:56  -0.933333             NaN          NaN   \n",
      "3        2023-08-01 05:03:43   6.283333             NaN          NaN   \n",
      "4        2023-08-01 05:16:35  -1.583333             NaN          NaN   \n",
      "...                      ...        ...             ...          ...   \n",
      "350324   2023-09-30 22:31:26  -8.433333            30.0    35.266666   \n",
      "350325   2023-09-30 22:49:18 -11.300000             NaN          NaN   \n",
      "350326   2023-09-30 22:49:19  -4.316666            30.0    31.866666   \n",
      "350327   2023-09-30 23:21:05 -22.083333            30.0    47.500000   \n",
      "350328   2023-09-30 23:34:40 -23.666666             NaN          NaN   \n",
      "\n",
      "         HDWY_DEV  ADJUSTED_EARLY_COUNT  ADJUSTED_LATE_COUNT  \\\n",
      "0             NaN                     0                    0   \n",
      "1             NaN                     0                    0   \n",
      "2             NaN                     0                    0   \n",
      "3             NaN                     0                    0   \n",
      "4             NaN                     0                    0   \n",
      "...           ...                   ...                  ...   \n",
      "350324   5.266666                     0                    1   \n",
      "350325        NaN                     0                    1   \n",
      "350326   1.866666                     0                    0   \n",
      "350327  17.500000                     0                    1   \n",
      "350328        NaN                     0                    1   \n",
      "\n",
      "        ADJUSTED_ONTIME_COUNT  DWELL_IN_MINS  SCHEDULED_LAYOVER_MINUTES  \n",
      "0                           1       6.500000                        NaN  \n",
      "1                           1       0.000000                        NaN  \n",
      "2                           1       0.000000                        NaN  \n",
      "3                           1       0.000000                        NaN  \n",
      "4                           1      12.866666                        5.0  \n",
      "...                       ...            ...                        ...  \n",
      "350324                      0       0.000000                        NaN  \n",
      "350325                      0       0.000000                        NaN  \n",
      "350326                      1       0.000000                        NaN  \n",
      "350327                      0       0.000000                        NaN  \n",
      "350328                      0       3.216666                        NaN  \n",
      "\n",
      "[350329 rows x 18 columns]\n"
     ]
    }
   ],
   "source": [
    "Table = wego[['DATE', 'TRIP_ID', 'ROUTE_DIRECTION_NAME', 'ROUTE_ABBR', 'LATITUDE', 'LONGITUDE', 'SCHEDULED_TIME', 'ACTUAL_ARRIVAL_TIME', 'ACTUAL_DEPARTURE_TIME','ADHERENCE',\n",
    "       'SCHEDULED_HDWY', 'ACTUAL_HDWY', 'HDWY_DEV', 'ADJUSTED_EARLY_COUNT',\n",
    "       'ADJUSTED_LATE_COUNT', 'ADJUSTED_ONTIME_COUNT', 'DWELL_IN_MINS', 'SCHEDULED_LAYOVER_MINUTES']].loc[:]\n",
    "print(Table)"
   ]
  },
  {
   "cell_type": "code",
   "execution_count": 65,
   "id": "5dd421b9-ce6c-4b1c-9b99-9afe8b6b61c4",
   "metadata": {},
   "outputs": [
    {
     "data": {
      "text/plain": [
       "ADJUSTED_LATE_COUNT\n",
       "0    291291\n",
       "1     59038\n",
       "Name: count, dtype: int64"
      ]
     },
     "execution_count": 65,
     "metadata": {},
     "output_type": "execute_result"
    }
   ],
   "source": [
    "wego['ADJUSTED_LATE_COUNT'].value_counts().sort_index()"
   ]
  },
  {
   "cell_type": "code",
   "execution_count": 59,
   "id": "3325ba7e-af69-45dd-9510-b2e9ede2570a",
   "metadata": {},
   "outputs": [
    {
     "data": {
      "text/plain": [
       "ADJUSTED_EARLY_COUNT\n",
       "0    340554\n",
       "1      9775\n",
       "Name: count, dtype: int64"
      ]
     },
     "execution_count": 59,
     "metadata": {},
     "output_type": "execute_result"
    }
   ],
   "source": [
    "wego['ADJUSTED_EARLY_COUNT'].value_counts().sort_index()"
   ]
  },
  {
   "cell_type": "code",
   "execution_count": 173,
   "id": "f6ee1927-58e9-4821-889f-8497a0d6a0d7",
   "metadata": {},
   "outputs": [
    {
     "name": "stdout",
     "output_type": "stream",
     "text": [
      "270048\n"
     ]
    }
   ],
   "source": [
    "ONTIME_COUNT = len(wego[wego['ADJUSTED_ONTIME_COUNT']==1])\n",
    "print(ONTIME_COUNT)"
   ]
  },
  {
   "cell_type": "code",
   "execution_count": 185,
   "id": "ce2a0758-c6d0-422f-b0a0-7f72b3f55daf",
   "metadata": {},
   "outputs": [
    {
     "ename": "TypeError",
     "evalue": "ufunc 'divide' not supported for the input types, and the inputs could not be safely coerced to any supported types according to the casting rule ''safe''",
     "output_type": "error",
     "traceback": [
      "\u001b[1;31m---------------------------------------------------------------------------\u001b[0m",
      "\u001b[1;31mTypeError\u001b[0m                                 Traceback (most recent call last)",
      "Cell \u001b[1;32mIn[185], line 2\u001b[0m\n\u001b[0;32m      1\u001b[0m \u001b[38;5;28;01mimport\u001b[39;00m \u001b[38;5;21;01mnumpy\u001b[39;00m \u001b[38;5;28;01mas\u001b[39;00m \u001b[38;5;21;01mnp\u001b[39;00m\n\u001b[1;32m----> 2\u001b[0m percent_on_time \u001b[38;5;241m=\u001b[39m np\u001b[38;5;241m.\u001b[39marray([\u001b[38;5;124m'\u001b[39m\u001b[38;5;124mADJUSTED_ONTIME_COUNT\u001b[39m\u001b[38;5;124m'\u001b[39m])\u001b[38;5;241m/\u001b[39mnp\u001b[38;5;241m.\u001b[39marray([\u001b[38;5;124m'\u001b[39m\u001b[38;5;124mONTIME_COUNT\u001b[39m\u001b[38;5;124m'\u001b[39m])\u001b[38;5;241m*\u001b[39m\u001b[38;5;241m100\u001b[39m\n",
      "\u001b[1;31mTypeError\u001b[0m: ufunc 'divide' not supported for the input types, and the inputs could not be safely coerced to any supported types according to the casting rule ''safe''"
     ]
    }
   ],
   "source": []
  },
  {
   "cell_type": "code",
   "execution_count": null,
   "id": "0c92383d-2299-435c-a4bd-4141e59517af",
   "metadata": {},
   "outputs": [],
   "source": []
  },
  {
   "cell_type": "code",
   "execution_count": null,
   "id": "22ced908-a230-485c-afc3-9bf83f133ea9",
   "metadata": {},
   "outputs": [],
   "source": []
  },
  {
   "cell_type": "code",
   "execution_count": null,
   "id": "46244f8e-99ac-47b1-8751-ef04efae6826",
   "metadata": {},
   "outputs": [],
   "source": []
  },
  {
   "cell_type": "code",
   "execution_count": null,
   "id": "d286de32-9109-4e58-98a4-67a3d0556e80",
   "metadata": {},
   "outputs": [],
   "source": []
  },
  {
   "cell_type": "code",
   "execution_count": null,
   "id": "4e5a666e-4aee-4ad4-b560-140b1aea7ab9",
   "metadata": {},
   "outputs": [],
   "source": []
  }
 ],
 "metadata": {
  "kernelspec": {
   "display_name": "Python 3 (ipykernel)",
   "language": "python",
   "name": "python3"
  },
  "language_info": {
   "codemirror_mode": {
    "name": "ipython",
    "version": 3
   },
   "file_extension": ".py",
   "mimetype": "text/x-python",
   "name": "python",
   "nbconvert_exporter": "python",
   "pygments_lexer": "ipython3",
   "version": "3.12.4"
  }
 },
 "nbformat": 4,
 "nbformat_minor": 5
}
